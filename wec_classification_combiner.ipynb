{
 "cells": [
  {
   "cell_type": "code",
   "execution_count": 3,
   "metadata": {},
   "outputs": [],
   "source": [
    "import pandas as pd\n",
    "import numpy as np"
   ]
  },
  {
   "cell_type": "code",
   "execution_count": 4,
   "metadata": {},
   "outputs": [],
   "source": [
    "prefix_yr = \"2016_\"\n",
    "year = 2012\n",
    "tracks_2012 = [\"SEBRING\",\"SPA_FRANCORCHAMPS\",\"INTERLAGOS\",\"SILVERSTONE\",\"BAHRAIN_INTERNATIONAL_CIRCUIT\",\"FUJI_SPEEDWAY\",\"SHANGHAI_INTERNATIONAL_CIRCUIT\"]\n",
    "tracks_2013 = [\"SILVERSTONE\",\"SPA_FRANCORCHAMPS\",\"INTERLAGOS\",\"CIRCUIT_OF_THE_AMERICAS\", \"FUJI_SPEEDWAY\",\"SHANGHAI_INTERNATIONAL_CIRCUIT\", \"BAHRAIN_INTERNATIONAL_CIRCUIT\"]\n",
    "tracks_2014 = [\"SILVERSTONE\",\"SPA_FRANCORCHAMPS\",\"CIRCUIT_OF_THE_AMERICAS\", \"FUJI_SPEEDWAY\",\"SHANGHAI_INTERNATIONAL_CIRCUIT\", \"BAHRAIN_INTERNATIONAL_CIRCUIT\",\"INTERLAGOS\"]\n",
    "tracks_2015 = [\"SILVERSTONE\",\"SPA_FRANCORCHAMPS\",\"NURBURGRING\", \"CIRCUIT_OF_THE_AMERICAS\", \"FUJI_SPEEDWAY\",\"SHANGHAI_INTERNATIONAL_CIRCUIT\", \"BAHRAIN_INTERNATIONAL_CIRCUIT\"]\n",
    "tracks_2016_2017 = [\"SILVERSTONE\",\"SPA_FRANCORCHAMPS\",\"NURBURGRING\",\"AUTODROMO_HERMANOS_RODRIGUEZ\", \"CIRCUIT_OF_THE_AMERICAS\", \"FUJI_SPEEDWAY\",\"SHANGHAI_INTERNATIONAL_CIRCUIT\", \"BAHRAIN_INTERNATIONAL_CIRCUIT\"]\n",
    "tracks_2018_2019 = [\"SPA_FRANCORCHAMPS_2018\",\"LE_MANS_2018\",\"SILVERSTONE\",\"FUJI_SPEEDWAY\",\"SHANGHAI_INTERNATIONAL_CIRCUIT\",\"SEBRING\",\"SPA_FRANCORCHAMPS_2019\",\"LE_MANS_2019\"]\n",
    "tracks_2019_2020 = [\"SILVERSTONE\",\"FUJI_SPEEDWAY\",\"SHANGHAI_INTERNATIONAL_CIRCUIT\",\"BAHRAIN_INTERNATIONAL_CIRCUIT_2019\",\"CIRCUIT_OF_THE_AMERICAS\",\"SPA_FRANCORCHAMPS\",\"BAHRAIN_INTERNATIONAL_CIRCUIT_2020\"]\n",
    "tracks_2021 = [\"SPA_FRANCORCHAMPS\",\"AUTODROMO_DO_ALGARVE\", \"AUTODROMO_NAZIONALE_DI_MONZA\",\"BAHRAIN_INTERNATIONAL_CIRCUIT_6_HOURS\", \"BAHRAIN_INTERNATIONAL_CIRCUIT_8_HOURS\"]\n",
    "tracks_2022 = ['SEBRING']"
   ]
  },
  {
   "cell_type": "code",
   "execution_count": null,
   "metadata": {},
   "outputs": [],
   "source": []
  },
  {
   "cell_type": "code",
   "execution_count": null,
   "metadata": {},
   "outputs": [],
   "source": [
    "fy_classification_path = \"data/classifications/2021_CLASSIFICATION.CSV\"\n",
    "fy_classification = pd.read_csv(fy_classification_path, index_col = 0)\n",
    "for i in range(0,len(tracks_2021)):\n",
    "    classification_path = \"data/classifications/\" + prefix_yr + tracks_2016_2017[i] + \"CLASSIFICATION.csv\"\n",
    "    classification = pd.read_csv(classification_path)\n",
    "    fy_classification = fy_classification.append(classification)\n",
    "wanted_columns = ['POSITION', 'NUMBER', 'TEAM', 'DRIVER_1', 'DRIVER_2', 'DRIVER_3', 'season', 'VEHICLE', 'CLASS', 'GROUP']\n",
    "fy_classification = fy_classification.drop_duplicates('NUMBER').dropna(axis=1, how=\"all\")\n",
    "fy_classification = fy_classification[wanted_columns]\n",
    "fy_classification.to_csv(fy_classification_path)"
   ]
  },
  {
   "cell_type": "code",
   "execution_count": null,
   "metadata": {},
   "outputs": [],
   "source": []
  }
 ],
 "metadata": {
  "interpreter": {
   "hash": "357d08fc6475d5f3d7f5382ddf4b1a0cd6014611561001adf4b40c4ba2d37830"
  },
  "kernelspec": {
   "display_name": "Python 3.8.1 64-bit",
   "language": "python",
   "name": "python3"
  },
  "language_info": {
   "codemirror_mode": {
    "name": "ipython",
    "version": 3
   },
   "file_extension": ".py",
   "mimetype": "text/x-python",
   "name": "python",
   "nbconvert_exporter": "python",
   "pygments_lexer": "ipython3",
   "version": "3.8.1"
  },
  "orig_nbformat": 4
 },
 "nbformat": 4,
 "nbformat_minor": 2
}
