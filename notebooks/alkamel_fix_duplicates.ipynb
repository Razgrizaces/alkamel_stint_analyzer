{
 "cells": [
  {
   "cell_type": "code",
   "execution_count": 1,
   "metadata": {},
   "outputs": [],
   "source": [
    "import pandas as pd"
   ]
  },
  {
   "cell_type": "code",
   "execution_count": 2,
   "metadata": {},
   "outputs": [
    {
     "name": "stderr",
     "output_type": "stream",
     "text": [
      "C:\\Users\\trist\\AppData\\Local\\Temp/ipykernel_18348/666752617.py:1: DtypeWarning: Columns (13,15,16,22) have mixed types. Specify dtype option on import or set low_memory=False.\n",
      "  alkamel_data = pd.read_csv('alkamel_data_no_duplicates.csv')\n"
     ]
    },
    {
     "name": "stdout",
     "output_type": "stream",
     "text": [
      "<class 'pandas.core.frame.DataFrame'>\n",
      "RangeIndex: 2080123 entries, 0 to 2080122\n",
      "Data columns (total 32 columns):\n",
      " #   Column                       Dtype  \n",
      "---  ------                       -----  \n",
      " 0   number                       int64  \n",
      " 1   driver_number                int64  \n",
      " 2   lap_number                   int64  \n",
      " 3   lap_improvement              int64  \n",
      " 4   crossing_finish_line_in_pit  object \n",
      " 5   s1_improvement               int64  \n",
      " 6   s2_improvement               int64  \n",
      " 7   s3_improvement               int64  \n",
      " 8   kph                          float64\n",
      " 9   top_speed                    float64\n",
      " 10  driver_name                  object \n",
      " 11  pit_time                     object \n",
      " 12  class                        object \n",
      " 13  group                        object \n",
      " 14  team                         object \n",
      " 15  manufacturer                 object \n",
      " 16  flag_at_fl                   object \n",
      " 17  s1_seconds                   float64\n",
      " 18  s2_seconds                   float64\n",
      " 19  s3_seconds                   float64\n",
      " 20  championship                 object \n",
      " 21  session_type                 object \n",
      " 22  season                       object \n",
      " 23  circuit                      object \n",
      " 24  round                        int64  \n",
      " 25  lap_time_seconds             float64\n",
      " 26  elapsed_seconds              float64\n",
      " 27  pit_time_seconds             float64\n",
      " 28  session                      object \n",
      " 29  key                          object \n",
      " 30  lap_key                      object \n",
      " 31  event                        object \n",
      "dtypes: float64(8), int64(8), object(16)\n",
      "memory usage: 507.8+ MB\n"
     ]
    }
   ],
   "source": [
    "alkamel_data = pd.read_csv('alkamel_data.csv', index_col=0)\n",
    "alkamel_data"
   ]
  },
  {
   "cell_type": "code",
   "execution_count": null,
   "metadata": {},
   "outputs": [],
   "source": [
    "imsa_data = pd.read_csv('imsa_final.csv', index_col =0)"
   ]
  },
  {
   "cell_type": "code",
   "execution_count": null,
   "metadata": {},
   "outputs": [],
   "source": [
    "fia_wec_data = pd.read_csv('fia_wec_duplicate_data.csv', index_col=0)\n",
    "fia_wec_data['lap_key'] = fia_wec_data['key'] + \"_\" + fia_wec_data['driver_number'].map(str) + \"_\" + fia_wec_data['lap_number'].map(str)\n",
    "fia_wec_data['season'] = fia_wec_data['season'].map(str)\n"
   ]
  },
  {
   "cell_type": "code",
   "execution_count": null,
   "metadata": {},
   "outputs": [],
   "source": [
    "fia_wec_data_add_2021_r1 = fia_wec_data[fia_wec_data['season'] == '2021']\n",
    "fia_wec_data_add_2021_r1['round'] = 1\n",
    "fia_wec_data_add_2021_r1['key'] = fia_wec_data_add_2021_r1['key'] = fia_wec_data_add_2021_r1['season'].map(str) + \"_\" + \\\n",
    "        fia_wec_data_add_2021_r1['championship'] + \"_\" + fia_wec_data_add_2021_r1['round'].map(str) \\\n",
    "        + \"_\" + fia_wec_data_add_2021_r1['session'] + \"_\" + fia_wec_data_add_2021_r1['number'].map(str)\n",
    "fia_wec_data_add_2021_r1['lap_key'] = fia_wec_data_add_2021_r1['key'] + \"_\" + fia_wec_data_add_2021_r1['driver_number'].map(str) \\\n",
    "        + \"_\" + fia_wec_data_add_2021_r1['lap_number'].map(str)\n",
    "fia_wec_data_add_2021_r1"
   ]
  },
  {
   "cell_type": "code",
   "execution_count": null,
   "metadata": {},
   "outputs": [],
   "source": [
    "#looking at the data cursory, I can see that there's 01, 001, etc. So I have to manually map these I think...\n",
    "#or I could just separate by classes because that's normally how they're separated? but we would lose like 007 or 01 etc"
   ]
  },
  {
   "cell_type": "code",
   "execution_count": null,
   "metadata": {},
   "outputs": [],
   "source": [
    "alkamel_data_without_imsa = alkamel_data[alkamel_data['championship'] != 'IMSA']\n",
    "alkamel_data_without_imsa['number'] = alkamel_data_without_imsa['number'].map(str)"
   ]
  },
  {
   "cell_type": "code",
   "execution_count": null,
   "metadata": {},
   "outputs": [],
   "source": [
    "alkamel_data_w_new_imsa = pd.concat([imsa_data, alkamel_data_without_imsa]).reset_index(drop=True)"
   ]
  },
  {
   "cell_type": "code",
   "execution_count": null,
   "metadata": {},
   "outputs": [],
   "source": [
    "alkamel_data_w_new_imsa.info()"
   ]
  },
  {
   "cell_type": "code",
   "execution_count": null,
   "metadata": {},
   "outputs": [],
   "source": [
    "alkamel_data_w_new_imsa['lap_key'] = alkamel_data_w_new_imsa['key'] + \"_\" + alkamel_data_w_new_imsa['class'] + \"_\" + alkamel_data_w_new_imsa['driver_number'].map(str) + \"_\" + alkamel_data_w_new_imsa['lap_number'].map(str)"
   ]
  },
  {
   "cell_type": "code",
   "execution_count": null,
   "metadata": {},
   "outputs": [],
   "source": [
    "alkamel_new_data_counts = alkamel_data_w_new_imsa.groupby(['championship', 'lap_key', 'season', 'round', 'number']).count().reset_index()\n",
    "alkamel_new_data_counts"
   ]
  },
  {
   "cell_type": "code",
   "execution_count": null,
   "metadata": {},
   "outputs": [],
   "source": [
    "alkamel_new_data_counts[(alkamel_new_data_counts['driver_number']>1)]"
   ]
  },
  {
   "cell_type": "code",
   "execution_count": null,
   "metadata": {},
   "outputs": [],
   "source": [
    "alkamel_data_w_new_imsa['season'] = alkamel_data_w_new_imsa['season'].map(str)\n",
    "alkamel_new_data_wec = alkamel_data_w_new_imsa[(alkamel_data_w_new_imsa['championship'] == 'FIA WEC')]\n",
    "alkamel_new_data_other = alkamel_data_w_new_imsa[(alkamel_data_w_new_imsa['championship'] != 'FIA WEC')]\n",
    "alkamel_new_data_wec_remove_old = alkamel_new_data_wec[(alkamel_new_data_wec['season'] != '2021')&(alkamel_new_data_wec['season'] != '2017')]\n",
    "alkamel_new_data_wec_remove_old"
   ]
  },
  {
   "cell_type": "code",
   "execution_count": null,
   "metadata": {},
   "outputs": [],
   "source": [
    "alkamel_new_data_wec_2021 = alkamel_new_data_wec[(alkamel_new_data_wec['season'] == '2021')]\n",
    "alkamel_new_data_wec_2021 = alkamel_new_data_wec_2021[(alkamel_new_data_wec_2021['round'] != 1)]\n",
    "alkamel_new_data_wec_2021_fix = pd.concat([fia_wec_data_add_2021_r1, alkamel_new_data_wec_2021])\n",
    "alkamel_new_data_wec_2021_fix"
   ]
  },
  {
   "cell_type": "code",
   "execution_count": null,
   "metadata": {},
   "outputs": [],
   "source": [
    "alkamel_new_data_wec_2017 = alkamel_new_data_wec[(alkamel_new_data_wec['season'] == '2017')]\n",
    "alkamel_new_data_wec_2017 = alkamel_new_data_wec_2017[(alkamel_new_data_wec_2017['round'] != 2)]\n",
    "alkamel_new_data_2017 = fia_wec_data[(fia_wec_data['season'] == '2017')&(fia_wec_data['round'] == 2)] \n",
    "\n",
    "alkamel_new_data_wec_2017_fix = pd.concat([alkamel_new_data_wec_2017,alkamel_new_data_2017])"
   ]
  },
  {
   "cell_type": "code",
   "execution_count": null,
   "metadata": {},
   "outputs": [],
   "source": [
    "fia_wec_data_fix_final = pd.concat([alkamel_new_data_wec_remove_old,alkamel_new_data_wec_2017_fix,alkamel_new_data_wec_2021_fix])\n",
    "fia_wec_data_fix_final['championship'] = 'FIA WEC'\n",
    "fia_wec_data_fix_final['key'] = fia_wec_data_fix_final['season'].map(str) + \"_\" + fia_wec_data_fix_final['championship'] + \"_\" + \\\n",
    "          fia_wec_data_fix_final['round'].map(str) + \"_\" + fia_wec_data_fix_final['session'] \\\n",
    "            + \"_\" + fia_wec_data_fix_final['number'].map(str)\n",
    "fia_wec_data_fix_final['lap_key'] = fia_wec_data_fix_final['key'] + \"_\" + fia_wec_data_fix_final['class'] + \"_\" + \\\n",
    "      fia_wec_data_fix_final['driver_number'].map(str) + \"_\" + fia_wec_data_fix_final['lap_number'].map(str)"
   ]
  },
  {
   "cell_type": "code",
   "execution_count": null,
   "metadata": {},
   "outputs": [],
   "source": [
    "data_fixed = pd.concat([alkamel_new_data_other, fia_wec_data_fix_final]).reset_index(drop=True)\n",
    "data_fixed_counts = data_fixed.groupby(['lap_key']).count()\n",
    "data_fixed_counts"
   ]
  },
  {
   "cell_type": "code",
   "execution_count": null,
   "metadata": {},
   "outputs": [],
   "source": [
    "data_fixed_counts[data_fixed_counts['driver_number']>1]"
   ]
  },
  {
   "cell_type": "code",
   "execution_count": null,
   "metadata": {},
   "outputs": [],
   "source": [
    "#not full data for elms, wec, lmc, so let's repull it\n",
    "data_fixed_not_2022 = data_fixed[data_fixed['season'] != '2022']\n",
    "data_fixed_not_2022"
   ]
  },
  {
   "cell_type": "code",
   "execution_count": null,
   "metadata": {},
   "outputs": [],
   "source": [
    "data_fixed_2022 = data_fixed[data_fixed['season'] == '2022']\n",
    "#we know imsa is good so pull that\n",
    "data_fixed_2022_imsa = data_fixed_2022[data_fixed_2022['championship'] == 'IMSA']\n",
    "other_2022_data = pd.read_csv('2022_data_final.csv',index_col=0)\n"
   ]
  },
  {
   "cell_type": "code",
   "execution_count": null,
   "metadata": {},
   "outputs": [],
   "source": [
    "data_fixed_new = pd.concat([other_2022_data,data_fixed_2022_imsa,data_fixed_not_2022])\n",
    "data_fixed_new_counts = data_fixed_new.groupby('lap_key').count()\n",
    "data_fixed_new_counts[data_fixed_new_counts['driver_number']>1]"
   ]
  },
  {
   "cell_type": "code",
   "execution_count": null,
   "metadata": {},
   "outputs": [],
   "source": [
    "data_fixed_new.to_csv('alkamel_data_no_duplicates.csv',index=False)"
   ]
  },
  {
   "cell_type": "code",
   "execution_count": null,
   "metadata": {},
   "outputs": [],
   "source": [
    "data_fixed_new.groupby('round').count()"
   ]
  },
  {
   "cell_type": "code",
   "execution_count": null,
   "metadata": {},
   "outputs": [],
   "source": [
    "data_fixed_new['championship'] == 'IMSA'&data_fixed_new['season']=='2022'.head(60).to_csv('new_alkamel_timing_60.csv',index=False)"
   ]
  }
 ],
 "metadata": {
  "kernelspec": {
   "display_name": "Python 3.9.6 64-bit",
   "language": "python",
   "name": "python3"
  },
  "language_info": {
   "codemirror_mode": {
    "name": "ipython",
    "version": 3
   },
   "file_extension": ".py",
   "mimetype": "text/x-python",
   "name": "python",
   "nbconvert_exporter": "python",
   "pygments_lexer": "ipython3",
   "version": "3.9.6"
  },
  "orig_nbformat": 4,
  "vscode": {
   "interpreter": {
    "hash": "f4310927781e9bff6b1fce3f870c25594b856e51a4cdb5dd6d31b23b5731fc4b"
   }
  }
 },
 "nbformat": 4,
 "nbformat_minor": 2
}
