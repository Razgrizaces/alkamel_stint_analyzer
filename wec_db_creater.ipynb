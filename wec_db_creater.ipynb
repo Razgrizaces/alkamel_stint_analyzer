{
 "cells": [
  {
   "cell_type": "code",
   "execution_count": 1,
   "metadata": {},
   "outputs": [],
   "source": [
    "import pandas as pd\n",
    "import numpy as np"
   ]
  },
  {
   "cell_type": "code",
   "execution_count": 4,
   "metadata": {},
   "outputs": [
    {
     "name": "stderr",
     "output_type": "stream",
     "text": [
      "c:\\Users\\trist\\AppData\\Local\\Programs\\Python\\Python38\\lib\\site-packages\\IPython\\core\\interactiveshell.py:3369: DtypeWarning: Columns (26,30) have mixed types.Specify dtype option on import or set low_memory=False.\n",
      "  exec(code_obj, self.user_global_ns, self.user_ns)\n"
     ]
    }
   ],
   "source": [
    "#set up our data\n",
    "fia_wec_data = pd.read_csv(\"data/2012-2022_FIA_WEC_FULL_LAP_DATA.csv\",index_col=0)"
   ]
  },
  {
   "cell_type": "code",
   "execution_count": 83,
   "metadata": {},
   "outputs": [],
   "source": [
    "fia_wec_data.season = fia_wec_data.season.map(str)\n",
    "fia_wec_data['primary_key'] = fia_wec_data['season'] +\"_\"+ fia_wec_data['round'].map(int).map(str) +\"_\"+ fia_wec_data['number'].map(int).map(str) +\"_\"\\\n",
    "    + fia_wec_data['driver_number'].map(int).map(str) +\"_\"+ fia_wec_data['lap_number'].map(int).map(str)"
   ]
  },
  {
   "cell_type": "code",
   "execution_count": 84,
   "metadata": {},
   "outputs": [],
   "source": [
    "#in this one, I'm fixing the time data to be read in as large or seconds, large would be the timedelta object, otherwise our data is now in seconds.\n",
    "def convert_to_s(x):\n",
    "    hour = 0\n",
    "    try:\n",
    "        hour, minutes, second = x.split(\":\")\n",
    "    except ValueError:\n",
    "        hour = 0\n",
    "    try: \n",
    "        minutes, second = x.split(\":\")\n",
    "    except ValueError:\n",
    "        minutes = 0\n",
    "    hour_seconds = int(hour)*60*60\n",
    "    if hour == 0 and minutes == 0:\n",
    "        return x\n",
    "    else:\n",
    "        seconds, ms = second.split(\".\")\n",
    "    minute_seconds = (int(minutes)*60 + int(seconds) + int(hour_seconds))*1000 \n",
    "    total_ms = minute_seconds + int(ms)\n",
    "    return total_ms/1000\n",
    "\n",
    "timing_columns_to_fix = ['s1', 's2', 's3']\n",
    "#all of the x_large data is then converted into into seconds, and then converted into a time_delta variable for ease of displaying data/comparison; this helps for visualizations later\n",
    "for t in timing_columns_to_fix:\n",
    "    timing_large_label = t + '_large'\n",
    "    fia_wec_data[t] = fia_wec_data[t].map(str).map(convert_to_s).map(float)\n",
    "    fia_wec_data[timing_large_label] = pd.to_timedelta(fia_wec_data[t], unit = 'S')\n",
    "fia_wec_data['lap_time'] = pd.to_timedelta(fia_wec_data['lap_time_s'], unit = 'S')\n",
    "fia_wec_data['elapsed_s'] = fia_wec_data['elapsed_ms']/1000\n",
    "fia_wec_data['elapsed'] = pd.to_timedelta(fia_wec_data['elapsed_s'], unit = 'S')"
   ]
  },
  {
   "cell_type": "code",
   "execution_count": 85,
   "metadata": {},
   "outputs": [],
   "source": [
    "#mapping these to ints so we cut the df a bit down\n",
    "fia_wec_data['number'] = fia_wec_data['number'].map(int)\n",
    "fia_wec_data['lap_number'] = fia_wec_data['lap_number'].map(int)\n",
    "fia_wec_data['driver_number'] = fia_wec_data['driver_number'].map(int)\n",
    "fia_wec_data['round'] = fia_wec_data['round'].map(int)\n",
    "fia_wec_data['position'] = fia_wec_data['position'].map(int)\n",
    "fia_wec_data['class_position'] = fia_wec_data['class_position'].map(int)\n",
    "fia_wec_data['driver_stint_no'] = fia_wec_data['driver_stint_no'].map(int)\n",
    "fia_wec_data['team_stint_no'] = fia_wec_data['team_stint_no'].map(int)\n",
    "fia_wec_data['s1_improvement'] = fia_wec_data['s1_improvement'].map(int)\n",
    "fia_wec_data['s2_improvement'] = fia_wec_data['s2_improvement'].map(int)\n",
    "fia_wec_data['s3_improvement'] = fia_wec_data['s3_improvement'].map(int)\n",
    "fia_wec_data['lap_improvement'] = fia_wec_data['lap_improvement'].map(int)\n",
    "fia_wec_data.to_csv('2012-2022_FIA_WEC_FULL_LAP_DATA.csv')"
   ]
  }
 ],
 "metadata": {
  "interpreter": {
   "hash": "65f9f27c5d39846ec0d18dab7c8917293d7174586b733019df5040085123116a"
  },
  "kernelspec": {
   "display_name": "Python 3.8.1 64-bit",
   "language": "python",
   "name": "python3"
  },
  "language_info": {
   "codemirror_mode": {
    "name": "ipython",
    "version": 3
   },
   "file_extension": ".py",
   "mimetype": "text/x-python",
   "name": "python",
   "nbconvert_exporter": "python",
   "pygments_lexer": "ipython3",
   "version": "3.8.1"
  },
  "orig_nbformat": 4
 },
 "nbformat": 4,
 "nbformat_minor": 2
}
