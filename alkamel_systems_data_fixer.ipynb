{
 "cells": [
  {
   "cell_type": "code",
   "execution_count": 2,
   "metadata": {},
   "outputs": [],
   "source": [
    "import pandas as pd\n",
    "import numpy as np"
   ]
  },
  {
   "cell_type": "code",
   "execution_count": 4,
   "metadata": {},
   "outputs": [
    {
     "name": "stderr",
     "output_type": "stream",
     "text": [
      "C:\\Users\\trist\\AppData\\Local\\Temp/ipykernel_24616/2549278630.py:1: DtypeWarning: Columns (14,15) have mixed types. Specify dtype option on import or set low_memory=False.\n",
      "  alkamel_timing_data = pd.read_csv('timing_data.csv', index_col=0)\n"
     ]
    },
    {
     "data": {
      "text/plain": [
       "Index(['driver_number', 'lap_number', 'lap_improvement',\n",
       "       'crossing_finish_line_in_pit', 's1_improvement', 's2_improvement',\n",
       "       's3_improvement', 'kph', 'top_speed', 'driver_name', 'pit_time',\n",
       "       'championship', 'session_type', 'season', 'flag_at_fl',\n",
       "       'lap_time_seconds', 's1_seconds', 's2_seconds', 's3_seconds',\n",
       "       'elapsed_seconds', 'pit_time_seconds', 'key', 'event'],\n",
       "      dtype='object')"
      ]
     },
     "execution_count": 4,
     "metadata": {},
     "output_type": "execute_result"
    }
   ],
   "source": [
    "alkamel_timing_data = pd.read_csv('timing_data.csv', index_col=0)\n",
    "alkamel_teams = pd.read_csv('teams.csv', index_col = 0)"
   ]
  },
  {
   "cell_type": "code",
   "execution_count": 45,
   "metadata": {},
   "outputs": [],
   "source": [
    "alkamel_circuits = alkamel_teams.groupby('circuit').mean().reset_index()\n",
    "alkamel_teams['event'] = alkamel_teams['circuit']\n",
    "alkamel_circuits['event'] = alkamel_circuits['circuit'].str.split(\" \")\n",
    "\n",
    "#okay, some of these in 'circuit' should be event name, and we should fix the circuit to make sure we only grab the correct circuit\n",
    "def capitalize_circuit(x):\n",
    "    output = \"\"\n",
    "    for y in x:\n",
    "        output = output + \" \" + str.capitalize(y)\n",
    "    return str.strip(output)\n",
    "alkamel_circuits['event'] = alkamel_circuits['event'].apply(capitalize_circuit)\n",
    "alkamel_circuits.to_csv('circuits.csv')\n",
    "\n",
    "#manually fixed the circuits here"
   ]
  },
  {
   "cell_type": "code",
   "execution_count": null,
   "metadata": {},
   "outputs": [],
   "source": [
    "\n",
    "#fixing the circuit for team\n",
    "def fix_circuit():\n",
    "    fixed_circuits = pd.read_csv(\"circuits.csv\", index_col=0)\n",
    "    alkamel_teams = pd.read_csv('teams.csv', index_col = 0)\n",
    "    fixed_circuits = fixed_circuits.drop(['number', 'round'], axis=1)\n",
    "    alkamel_teams['event'] = alkamel_teams['circuit']\n",
    "    alkamel_teams = alkamel_teams.drop(['circuit'], axis=1)\n",
    "    pd.merge(alkamel_teams, fixed_circuits, on = 'event').to_csv('teams.csv')"
   ]
  },
  {
   "cell_type": "code",
   "execution_count": null,
   "metadata": {},
   "outputs": [],
   "source": []
  }
 ],
 "metadata": {
  "kernelspec": {
   "display_name": "Python 3.9.6 64-bit",
   "language": "python",
   "name": "python3"
  },
  "language_info": {
   "codemirror_mode": {
    "name": "ipython",
    "version": 3
   },
   "file_extension": ".py",
   "mimetype": "text/x-python",
   "name": "python",
   "nbconvert_exporter": "python",
   "pygments_lexer": "ipython3",
   "version": "3.9.6"
  },
  "orig_nbformat": 4,
  "vscode": {
   "interpreter": {
    "hash": "f4310927781e9bff6b1fce3f870c25594b856e51a4cdb5dd6d31b23b5731fc4b"
   }
  }
 },
 "nbformat": 4,
 "nbformat_minor": 2
}
