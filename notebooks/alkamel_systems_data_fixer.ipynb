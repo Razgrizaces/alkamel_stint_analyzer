{
 "cells": [
  {
   "cell_type": "code",
   "execution_count": null,
   "metadata": {},
   "outputs": [],
   "source": [
    "import pandas as pd\n",
    "import numpy as np"
   ]
  },
  {
   "cell_type": "code",
   "execution_count": null,
   "metadata": {},
   "outputs": [],
   "source": [
    "alkamel_timing_data = pd.read_csv('timing_data.csv', index_col=0)\n",
    "alkamel_teams = pd.read_csv('teams.csv', index_col = 0)"
   ]
  },
  {
   "cell_type": "code",
   "execution_count": null,
   "metadata": {},
   "outputs": [],
   "source": [
    "alkamel_circuits = alkamel_teams.groupby('circuit').mean().reset_index()\n",
    "alkamel_teams['event'] = alkamel_teams['circuit']\n",
    "alkamel_circuits['event'] = alkamel_circuits['circuit'].str.split(\" \")\n",
    "\n",
    "#okay, some of these in 'circuit' should be event name, and we should fix the circuit to make sure we only grab the correct circuit\n",
    "def capitalize_circuit(x):\n",
    "    output = \"\"\n",
    "    for y in x:\n",
    "        output = output + \" \" + str.capitalize(y)\n",
    "    return str.strip(output)\n",
    "alkamel_circuits['event'] = alkamel_circuits['event'].apply(capitalize_circuit)\n",
    "alkamel_circuits.to_csv('circuits.csv')\n",
    "\n",
    "#manually fixed the circuits here"
   ]
  },
  {
   "cell_type": "code",
   "execution_count": null,
   "metadata": {},
   "outputs": [],
   "source": [
    "#fixing the circuit for team\n",
    "def fix_circuit():\n",
    "    fixed_circuits = pd.read_csv(\"circuits.csv\", index_col=0)\n",
    "    alkamel_teams = pd.read_csv('teams.csv', index_col = 0)\n",
    "    fixed_circuits = fixed_circuits.drop(['number', 'round'], axis=1)\n",
    "    alkamel_teams['event'] = alkamel_teams['circuit']\n",
    "    alkamel_teams = alkamel_teams.drop(['circuit'], axis=1)\n",
    "    pd.merge(alkamel_teams, fixed_circuits, on = 'event').to_csv('teams.csv')"
   ]
  },
  {
   "cell_type": "code",
   "execution_count": null,
   "metadata": {},
   "outputs": [],
   "source": [
    "alkamel_timing_data = pd.read_csv('timing_data.csv', index_col=0)\n",
    "alkamel_teams = pd.read_csv('teams.csv', index_col = 0)\n",
    "alkamel_data = pd.merge(alkamel_timing_data, alkamel_teams, on = 'key')"
   ]
  },
  {
   "cell_type": "code",
   "execution_count": null,
   "metadata": {},
   "outputs": [],
   "source": [
    "#sort data by key + elapsed\n",
    "alkamel_data.sort_values(['key', 'elapsed_seconds']).reset_index(drop=True).head(50000).to_csv('test.csv')"
   ]
  },
  {
   "cell_type": "code",
   "execution_count": null,
   "metadata": {},
   "outputs": [],
   "source": [
    "#I already have fia wec data in this, so maybe I might append it to the bottom of it after I get the key?...\n",
    "#oh no nvm I have to keep the data bc it's only race data ugh\n",
    "#I guess I can just figure out how to do the other sessions, let's focus on that first\n",
    "\n",
    "#let's figure out how to do this with only one championship first\n",
    "fia_wec_rest_of_data = alkamel_data[(alkamel_data['championship'] == \"FIA WEC\")].reset_index(drop=True)\n",
    "fia_wec_rest_of_data"
   ]
  },
  {
   "cell_type": "code",
   "execution_count": null,
   "metadata": {},
   "outputs": [],
   "source": [
    "fia_wec_rest_of_data = fia_wec_rest_of_data.sort_values(['key', 'elapsed_seconds']).reset_index(drop=True)\n",
    "fia_wec_rest_of_data"
   ]
  },
  {
   "cell_type": "code",
   "execution_count": null,
   "metadata": {},
   "outputs": [],
   "source": [
    "#for the rest of the sessions... position is determined by the laps\n",
    "#gotta determine position by lap number?... how do we determine this\n",
    "fia_wec_r1 = fia_wec_rest_of_data[(fia_wec_rest_of_data['round'] == 1) & (fia_wec_rest_of_data['season'] == \"2012\") \\\n",
    "    & (fia_wec_rest_of_data['session'] != 'RACE')]\n",
    "fia_wec_r1"
   ]
  },
  {
   "cell_type": "code",
   "execution_count": null,
   "metadata": {},
   "outputs": [],
   "source": [
    "#okay, so let's spend some time trying to figure out how to loop thru data\n",
    "#lap key methods\n",
    "def search_lap_key_in_dict(key, dict):\n",
    "    for d in dict:\n",
    "        if d['lap_key'] == key:\n",
    "            return d\n",
    "    return None\n",
    "def update_lap_value_in_dict(key, dict, col, value):\n",
    "    dict_key = search_lap_key_in_dict(key, dict)\n",
    "    dict_key.update({col : value})\n",
    "\n",
    "#car key methods\n",
    "def search_car_key_in_dict(key, dict):\n",
    "    for d in dict:\n",
    "        if d['car_key'] == key:\n",
    "            return d\n",
    "    return None\n",
    "def update_car_value_in_dict(key, dict, col, value):\n",
    "    dict_key = search_car_key_in_dict(key, dict)\n",
    "    dict_key.update({col : value})\n",
    "\n",
    "#create array based off of column\n",
    "def create_array_from_column(column, df):\n",
    "    wanted_columns = [column]\n",
    "    array_groupby = df.groupby(column).mean()\n",
    "    array_groupby = array_groupby.reset_index()\n",
    "    array = array_groupby[wanted_columns]\n",
    "    array = np.array(array)\n",
    "    return array\n",
    "\n",
    "def update_timing_board_faster(dictionary):\n",
    "    dict_df = pd.DataFrame.from_dict(dictionary)\n",
    "    return dict_df\n",
    "\n",
    "#slow updating of timing\n",
    "def update_timing_board(dictionary):\n",
    "    dict_df = pd.DataFrame.from_dict(dictionary)\n",
    "    timing_board = dict_df.sort_values('fastest_lap_seconds')\n",
    "    timing_board.position = range(1, len(timing_board)+1)\n",
    "    #sort to get class position\n",
    "    timing_board.sort_values(['class', 'fastest_lap_seconds'])\n",
    "    #separate by class\n",
    "    timing_board_classes = create_array_from_column('class', timing_board)\n",
    "    class_counts = timing_board.groupby('class')['car_key'].count()\n",
    "    timing_board_with_class_position = pd.DataFrame(columns = timing_board.columns)\n",
    "    for c in timing_board_classes:\n",
    "        class_timing = timing_board[timing_board['class'] == c[0]]\n",
    "        class_timing.class_position = range(1, class_counts.at[c[0]]+1)\n",
    "        timing_board_with_class_position = pd.concat([timing_board_with_class_position, class_timing])\n",
    "    return timing_board_with_class_position\n",
    "\n",
    "championships = create_array_from_column('championship', alkamel_data)\n",
    "#filter data through championship\n",
    "for c in championships:\n",
    "    if c == 'FIA WEC':\n",
    "        championship_data = alkamel_data[alkamel_data['championship'] == c[0]]\n",
    "        #filter data through each season\n",
    "        seasons = create_array_from_column('season', championship_data)\n",
    "        for s in seasons:\n",
    "            if s == '2012':\n",
    "                season_data = championship_data[championship_data['season'] == s[0]]\n",
    "                #filter data through each round\n",
    "                rounds = create_array_from_column('round', season_data)\n",
    "                for r in rounds:\n",
    "                    if r == 1:\n",
    "                        round_data = season_data[season_data['round'] == r[0]]\n",
    "                        #filter data through each session\n",
    "                        sessions = create_array_from_column('session', round_data)\n",
    "                        for s2 in sessions:\n",
    "                            session_data = round_data[round_data['session'] == s2[0]]\n",
    "                            #sort by elapsed\n",
    "                            session_data = session_data.sort_values('elapsed_seconds').reset_index(drop=True)\n",
    "                            #create lap key\n",
    "                            session_data['car_key'] = session_data['season'] + \"_\" + session_data['round'].map(str) + \"_\" + \\\n",
    "                            session_data['session'] + \"_\" + session_data['number'].map(str)\n",
    "                            session_data['position'] = 0\n",
    "                            session_data['class_position'] = 0\n",
    "                            wanted_columns = ['car_key', 'class']\n",
    "                            lap_keys = session_data.groupby(['car_key', 'class']).mean().sort_values(by='elapsed_seconds').reset_index()\n",
    "                            lap_keys = lap_keys[wanted_columns]\n",
    "                            lap_keys['position'] = 0\n",
    "                            lap_keys['class_position'] = 0\n",
    "                            lap_keys['fastest_lap_seconds'] = 0\n",
    "                            lap_keys['last_lap_seconds'] = 0\n",
    "                            lap_keys_dict = lap_keys.to_dict('records')\n",
    "                            for i in range(0, len(session_data)):\n",
    "                                x = session_data.iloc[i]\n",
    "                                #updates lap time\n",
    "                                if(x['crossing_finish_line_in_pit'] != 'B'):\n",
    "                                    current_car_timing = search_car_key_in_dict(x['car_key'], lap_keys_dict)\n",
    "                                    if(current_car_timing['fastest_lap_seconds'] > x['lap_time_seconds'] or current_car_timing['fastest_lap_seconds'] == 0):\n",
    "                                        update_car_value_in_dict(x['car_key'], lap_keys_dict, 'fastest_lap_seconds', x['lap_time_seconds'])\n",
    "                                    update_car_value_in_dict(x['car_key'], lap_keys_dict, 'last_lap_seconds', x['lap_time_seconds'])\n",
    "                                if x['lap_time_seconds'] == 0:\n",
    "                                    x.at[i, 'position'] = 0\n",
    "                                    x.at[i, 'class_position'] = 0\n",
    "                                else:\n",
    "                                    lap_keys_dict = update_timing_board(lap_keys_dict).to_dict('records')\n",
    "                                    session_data.loc[i, 'position'] = search_car_key_in_dict(x['car_key'], lap_keys_dict)['position']\n",
    "                                    session_data.loc[i, 'class_position'] = search_car_key_in_dict(x['car_key'], lap_keys_dict)['class_position']\n",
    "session_data"
   ]
  },
  {
   "cell_type": "code",
   "execution_count": null,
   "metadata": {},
   "outputs": [],
   "source": [
    "\n",
    "\n",
    "#let's use this as proof of concept\n",
    "session_data = alkamel_data[(alkamel_data['round'] == 1)&(alkamel_data['championship'] == 'FIA WEC')\\\n",
    "    &(alkamel_data['season']=='2012')&(alkamel_data['session']=='FREE PRACTICE 1')].reset_index(drop=True)\n",
    "\n",
    "#sort the data by elapsed_seconds\n",
    "session_data = session_data.sort_values('elapsed_seconds').reset_index(drop=True)\n",
    "\n",
    "#push all the records in the session to a dict\n",
    "session_data['lap_key'] = session_data['season'] + \"_\" + session_data['round'].map(str) + \"_\" + \\\n",
    "session_data['session'] + \"_\" + session_data['number'].map(str) + \"_\" + session_data['lap_number'].map(str)\n",
    "session_data['car_key'] = session_data['season'] + \"_\" + session_data['round'].map(str) + \"_\" + \\\n",
    "session_data['session'] + \"_\" + session_data['number'].map(str)\n",
    "session_data['position'] = 0\n",
    "session_data['class_position'] = 0\n",
    "wanted_columns = ['car_key', 'class']\n",
    "lap_keys = session_data.groupby(['car_key', 'class']).mean().sort_values(by='elapsed_seconds').reset_index()\n",
    "lap_keys = lap_keys[wanted_columns]\n",
    "lap_keys['position'] = 0\n",
    "lap_keys['class_position'] = 0\n",
    "lap_keys['fastest_lap_seconds'] = 0\n",
    "lap_keys['last_lap_seconds'] = 0\n",
    "lap_keys_dict = lap_keys.to_dict('records')\n",
    "\n",
    "for i in range(0, len(session_data)):\n",
    "    x = session_data.iloc[i]\n",
    "    #updates lap time\n",
    "    if(x['crossing_finish_line_in_pit'] != 'B'):\n",
    "        current_car_timing = search_car_key_in_dict(x['car_key'], lap_keys_dict)\n",
    "        if(current_car_timing['fastest_lap_seconds'] > x['lap_time_seconds'] or current_car_timing['fastest_lap_seconds'] == 0):\n",
    "            update_car_value_in_dict(x['car_key'], lap_keys_dict, 'fastest_lap_seconds', x['lap_time_seconds'])\n",
    "        update_car_value_in_dict(x['car_key'], lap_keys_dict, 'last_lap_seconds', x['lap_time_seconds'])\n",
    "    if x['lap_time_seconds'] == 0:\n",
    "        x.at[i, 'position'] = 0\n",
    "        x.at[i, 'class_position'] = 0\n",
    "    else:\n",
    "        lap_keys_dict = update_timing_board(lap_keys_dict).to_dict('records')\n",
    "        session_data.loc[i, 'position'] = search_car_key_in_dict(x['car_key'], lap_keys_dict)['position']\n",
    "        session_data.loc[i, 'class_position'] = search_car_key_in_dict(x['car_key'], lap_keys_dict)['class_position']\n",
    "dict_df = pd.DataFrame.from_dict(lap_keys_dict)\n",
    "session_data"
   ]
  },
  {
   "cell_type": "code",
   "execution_count": null,
   "metadata": {},
   "outputs": [],
   "source": [
    "\n",
    "#loop through the timing to get the fastest lap\n",
    "for i in range(0, len(session_data)):\n",
    "    x = session_data.iloc[i]\n",
    "    #updates lap time\n",
    "    if(x['crossing_finish_line_in_pit'] != 'B'):\n",
    "        current_car_timing = search_key_in_dicts(x, x['car_key'], lap_keys_dict)\n",
    "        if(current_car_timing['fastest_lap_seconds'] > x['lap_time_seconds'] or current_car_timing['fastest_lap_seconds'] == 0):\n",
    "            update_value_in_dicts(x['car_key'], lap_keys_dict, 'fastest_lap_seconds', x['lap_time_seconds'])\n",
    "    #update position of the current lap\n",
    "    #if lap time is 0, put position as 0\n",
    "#cumsum?...\n",
    "#sort to get position\n",
    "session_data"
   ]
  }
 ],
 "metadata": {
  "kernelspec": {
   "display_name": "Python 3.9.6 64-bit",
   "language": "python",
   "name": "python3"
  },
  "language_info": {
   "codemirror_mode": {
    "name": "ipython",
    "version": 3
   },
   "file_extension": ".py",
   "mimetype": "text/x-python",
   "name": "python",
   "nbconvert_exporter": "python",
   "pygments_lexer": "ipython3",
   "version": "3.9.6"
  },
  "orig_nbformat": 4,
  "vscode": {
   "interpreter": {
    "hash": "f4310927781e9bff6b1fce3f870c25594b856e51a4cdb5dd6d31b23b5731fc4b"
   }
  }
 },
 "nbformat": 4,
 "nbformat_minor": 2
}
