{
 "cells": [
  {
   "cell_type": "code",
   "execution_count": null,
   "metadata": {},
   "outputs": [],
   "source": [
    "import pandas as pd\n",
    "import numpy as np\n",
    "import os"
   ]
  },
  {
   "cell_type": "code",
   "execution_count": null,
   "metadata": {},
   "outputs": [],
   "source": [
    "#this combines the files together in the directories\n",
    "import pathlib2 as pl2\n",
    "\n",
    "def combine_files_together():\n",
    "    base_path = \"data/\"\n",
    "    elms_path = \"ELMS\"\n",
    "    lmc_cup_path = \"LeMansCup\"\n",
    "    fiawec_path = \"FIAWEC\"\n",
    "    imsa_path = \"IMSA\"\n",
    "\n",
    "    file_paths = [fiawec_path, elms_path, lmc_cup_path, imsa_path]\n",
    "    #file_paths = [lmc_cup_path]\n",
    "    #combine the dfs together\n",
    "    for f in file_paths:\n",
    "        curr_dir = base_path + f\n",
    "        full_df = pd.DataFrame()\n",
    "        current_circuit = \"\"\n",
    "        ps = pl2.Path(curr_dir)\n",
    "        rows = (pd.read_csv(p, index_col=0, dtype=str) for p in ps.glob('*.csv'))\n",
    "        full_df = pd.concat(rows)\n",
    "        full_csv_loc = f + \"_full_data.csv\"\n",
    "        full_df = full_df.dropna(axis=1, how = \"all\")\n",
    "        full_df = full_df.reset_index(drop=True)\n",
    "        full_df.columns = full_df.columns.str.strip()\n",
    "        full_df.columns = full_df.columns.str.lower()\n",
    "        full_df.to_csv(full_csv_loc)\n",
    "combine_files_together()"
   ]
  },
  {
   "cell_type": "code",
   "execution_count": null,
   "metadata": {},
   "outputs": [],
   "source": [
    "#load all the combined dfs\n",
    "def load_all_dfs():\n",
    "    fia_wec_df = pd.read_csv('FIAWEC_full_data.csv', index_col = 0)\n",
    "    imsa_df = pd.read_csv('IMSA_full_data.csv', index_col = 0,dtype=str)\n",
    "    elms_df = pd.read_csv('ELMS_full_data.csv', index_col = 0)\n",
    "    lmc_df = pd.read_csv('LeMansCup_full_data.csv', index_col = 0)\n",
    "    full_df = pd.concat([fia_wec_df, imsa_df, elms_df, lmc_df])\n",
    "    full_df = full_df.reset_index(drop=True)\n",
    "    return full_df\n",
    "full_df = load_all_dfs()\n"
   ]
  },
  {
   "cell_type": "code",
   "execution_count": null,
   "metadata": {},
   "outputs": [],
   "source": [
    "full_df['key'] = full_df['season'].map(str) + \"_\" + full_df['championship'] + \"_\" + full_df['round'].map(str) \\\n",
    "        + \"_\" + full_df['session_type'] + \"_\" + \\\n",
    "                full_df['number'].map(str) +  \"_\" + \\\n",
    "                full_df['lap_number'].map(str)\n",
    "full_df[full_df['number'] == '01']"
   ]
  },
  {
   "cell_type": "code",
   "execution_count": null,
   "metadata": {},
   "outputs": [],
   "source": [
    "full_df = full_df.drop_duplicates()"
   ]
  },
  {
   "cell_type": "code",
   "execution_count": null,
   "metadata": {},
   "outputs": [],
   "source": [
    "df_counts = full_df.groupby('key').count()\n",
    "df_counts[df_counts['number'] > 1]"
   ]
  },
  {
   "cell_type": "code",
   "execution_count": null,
   "metadata": {},
   "outputs": [],
   "source": [
    "#these help fix the team, group, class\n",
    "full_df['fix_team'] = np.where(full_df['team'].isna(), np.where(full_df['team_x'].isna(), full_df['team_y'], full_df['team_x']),full_df['team'])\n",
    "full_df[full_df['fix_team'].isna()]\n",
    "full_df['fix_class'] = np.where(full_df['class'].isna(), np.where(full_df['class_x'].isna(), full_df['class_y'], full_df['class_x']),full_df['class'])\n",
    "full_df[full_df['fix_class'].isna()]\n",
    "full_df['fix_group'] = np.where(full_df['group'].isna(), np.where(full_df['group_x'].isna(), full_df['group_y'], full_df['group_x']),full_df['group'])\n",
    "full_df[full_df['fix_group'].isna()]\n",
    "\n",
    "full_df['team'] = full_df['fix_team']\n",
    "full_df['class'] = full_df['fix_class']\n",
    "full_df['group'] = full_df['fix_group']\n",
    "\n",
    "full_df_fixed_columns = full_df.drop(['team_x', 'team_y', 'fix_team', 'group_x', 'group_y', 'fix_group', 'class_x', 'class_y','fix_class'], axis=1)\n",
    "full_df_fixed_columns.columns"
   ]
  },
  {
   "cell_type": "code",
   "execution_count": null,
   "metadata": {},
   "outputs": [],
   "source": [
    "#okay so the next thing to prob fix to drop porsche,ford,t6,t7, not used really for anything\n",
    "#also fix s1,s2,s3, pit_time and convert to seconds\n",
    "full_df_fixed_columns.info()"
   ]
  },
  {
   "cell_type": "code",
   "execution_count": null,
   "metadata": {},
   "outputs": [],
   "source": [
    "#drop the ones we don't need like the le mans specific ones\n",
    "full_df_without_lm = full_df_fixed_columns.drop(['porsche', 'ford', 't6', 't7'], axis=1)\n",
    "\n",
    "#here we're going to fix the sectors, this is just showing why we would need to fix those\n",
    "wanted_columns = ['s1', 's2', 's3', 'pit_time', 'elapsed',  's1_seconds', 's2_seconds', 's3_seconds', 's1_large', 's2_large', 's3_large']\n",
    "full_df_sectors = full_df_without_lm[wanted_columns]\n",
    "full_df_sectors.head(10)"
   ]
  },
  {
   "cell_type": "code",
   "execution_count": null,
   "metadata": {},
   "outputs": [],
   "source": [
    "full_df_without_large = full_df_without_lm.drop(['s1_large', 's2_large', 's3_large'], axis=1)\n",
    "full_df_without_large.info()"
   ]
  },
  {
   "cell_type": "code",
   "execution_count": null,
   "metadata": {},
   "outputs": [],
   "source": [
    "#this we use to convert anything to ms\n",
    "def convert_to_s(x):\n",
    "    if(x == np.nan):\n",
    "        return x\n",
    "    hour = 0\n",
    "    minutes = 0\n",
    "    try:\n",
    "        hour, minutes, second = x.split(\":\")\n",
    "    except ValueError:\n",
    "        hour = 0\n",
    "        try:\n",
    "            minutes, second = x.split(\":\")\n",
    "        except ValueError:\n",
    "            hour = 0\n",
    "            minutes = 0\n",
    "            second = x\n",
    "    except AttributeError:\n",
    "        print(x)\n",
    "    hour_seconds = int(hour)*60*60\n",
    "    if hour == 0 and minutes == 0:\n",
    "        return x\n",
    "    else:\n",
    "        ms = 0\n",
    "        try:\n",
    "            seconds, ms = second.split(\".\")\n",
    "        except ValueError:\n",
    "            seconds = second\n",
    "    minute_seconds = (int(minutes)*60 + int(seconds) + int(hour_seconds))*1000 \n",
    "    total_ms = minute_seconds + int(ms)\n",
    "    return total_ms/1000\n",
    "\n",
    "#this uses the method to convert all of the large ones (h:m:s.ms to seconds)\n",
    "def convert_df_cols_to_seconds(full_df):\n",
    "    full_df['lap_time_seconds'] = full_df.lap_time.map(convert_to_s)\n",
    "    full_df['s1_seconds'] = full_df.s1.map(convert_to_s)\n",
    "    full_df['s2_seconds'] = full_df.s2.map(convert_to_s)\n",
    "    full_df['s3_seconds'] = full_df.s3.map(convert_to_s)\n",
    "    full_df['elapsed_seconds'] = full_df.elapsed.map(convert_to_s)\n",
    "    full_df['pit_time_seconds'] = full_df.pit_time.map(convert_to_s)\n",
    "    return full_df\n",
    "full_df_fix_seconds = convert_df_cols_to_seconds(full_df_without_large)\n",
    "full_df_fix_seconds "
   ]
  },
  {
   "cell_type": "code",
   "execution_count": null,
   "metadata": {},
   "outputs": [],
   "source": [
    "full_df_fix_seconds['session'] = full_df_fix_seconds['session_type']\n",
    "full_df_fix_seconds"
   ]
  },
  {
   "cell_type": "code",
   "execution_count": null,
   "metadata": {},
   "outputs": [],
   "source": [
    "def map_sessions(s):\n",
    "    if ('QUALIFYING' in s):\n",
    "        if ('RACE' in s):\n",
    "            return 'RACE'\n",
    "        return 'QUALIFYING'\n",
    "    elif('SESSION' in s or 'TEST' in s):\n",
    "        return 'TEST'\n",
    "    elif ('PRACTICE' in s):\n",
    "        return 'FREE PRACTICE'\n",
    "    elif ('RACE' in s):\n",
    "        return 'RACE'\n",
    "    else:\n",
    "        return s\n",
    "#maps the sessions to session_types\n",
    "\n",
    "full_df_fix_seconds['session_type'] = full_df_fix_seconds['session'].map(map_sessions)\n",
    "full_df_test = full_df_fix_seconds.groupby(['session','session_type']).mean()\n",
    "full_df_test"
   ]
  },
  {
   "cell_type": "code",
   "execution_count": null,
   "metadata": {},
   "outputs": [],
   "source": [
    "full_df_fix_seconds.info()"
   ]
  },
  {
   "cell_type": "code",
   "execution_count": null,
   "metadata": {},
   "outputs": [],
   "source": [
    "full_df_fix_seconds[(full_df_fix_seconds['team'].isna())]"
   ]
  },
  {
   "cell_type": "code",
   "execution_count": null,
   "metadata": {},
   "outputs": [],
   "source": [
    "full_df_fix_seconds_columns = full_df_fix_seconds.drop(['s1', 's2', 's3', 'lap_time', 'elapsed', 'pit_time'], axis=1)"
   ]
  },
  {
   "cell_type": "code",
   "execution_count": null,
   "metadata": {},
   "outputs": [],
   "source": [
    "full_df_fix_seconds_columns.to_csv('alkamel_data_full.csv', index=False)"
   ]
  },
  {
   "cell_type": "code",
   "execution_count": null,
   "metadata": {},
   "outputs": [],
   "source": [
    "full_df_test['event'] = full_df_test['circuit']"
   ]
  },
  {
   "cell_type": "code",
   "execution_count": null,
   "metadata": {},
   "outputs": [],
   "source": [
    "full_df_test.to_csv('new_2022_data.csv')"
   ]
  },
  {
   "cell_type": "code",
   "execution_count": null,
   "metadata": {},
   "outputs": [],
   "source": [
    "full_df[full_df['team'].isna()]"
   ]
  },
  {
   "cell_type": "code",
   "execution_count": null,
   "metadata": {},
   "outputs": [],
   "source": [
    "full_df.to_csv('final_2022_data.csv', index=False)"
   ]
  },
  {
   "cell_type": "code",
   "execution_count": null,
   "metadata": {},
   "outputs": [],
   "source": [
    "wanted_columns = ['event', 'circuit']\n",
    "full_df['event'] = full_df['circuit']\n",
    "full_df_group = full_df.groupby(['circuit','event']).mean().reset_index()\n",
    "full_df_group[wanted_columns].to_csv('new_2022_events.csv',index=False)"
   ]
  },
  {
   "cell_type": "code",
   "execution_count": null,
   "metadata": {},
   "outputs": [],
   "source": [
    "full_df = full_df.drop('event', axis=1)"
   ]
  },
  {
   "cell_type": "code",
   "execution_count": null,
   "metadata": {},
   "outputs": [],
   "source": [
    "events = pd.read_csv('new_2022_events.csv')\n",
    "full_df_w_event = pd.merge(left = full_df, right = events, on = 'circuit')"
   ]
  },
  {
   "cell_type": "code",
   "execution_count": null,
   "metadata": {},
   "outputs": [],
   "source": [
    "full_df_w_event['event'] = full_df_w_event['event_x']\n",
    "full_df_w_event['circuit'] = full_df_w_event['event_y']\n",
    "full_df_w_event = full_df_w_event.drop(['event_x', 'event_y','s1', 's2', 's3', 'hour', 'elapsed', 'lap_time'], axis=1)"
   ]
  },
  {
   "cell_type": "code",
   "execution_count": null,
   "metadata": {},
   "outputs": [],
   "source": [
    "full_df_w_event.groupby(['circuit','event']).mean()"
   ]
  },
  {
   "cell_type": "code",
   "execution_count": null,
   "metadata": {},
   "outputs": [],
   "source": [
    "full_df_w_event.info()"
   ]
  },
  {
   "cell_type": "code",
   "execution_count": null,
   "metadata": {},
   "outputs": [],
   "source": [
    "def remap_columns():\n",
    "    full_df_w_event['driver_number'] = full_df_w_event['driver_number'].map(int)\n",
    "    full_df_w_event['lap_number'] = full_df_w_event['lap_number'].map(int)\n",
    "    full_df_w_event['lap_improvement'] = full_df_w_event['lap_improvement'].map(int)\n",
    "    full_df_w_event['s1_improvement'] = full_df_w_event['s1_improvement'].map(int)\n",
    "    full_df_w_event['s2_improvement'] = full_df_w_event['s2_improvement'].map(int)\n",
    "    full_df_w_event['s3_improvement'] = full_df_w_event['s3_improvement'].map(int)\n",
    "    full_df_w_event['kph'] = full_df_w_event['kph'].map(float)\n",
    "    full_df_w_event['top_speed'] = full_df_w_event['top_speed'].map(float)\n",
    "    full_df_w_event['round'] = full_df_w_event['round'].map(int)\n",
    "    full_df_w_event['lap_time_seconds'] = full_df_w_event['driver_number'].map(float)\n",
    "    full_df_w_event['s1_seconds'] = full_df_w_event['s1_seconds'].map(float)\n",
    "    full_df_w_event['s2_seconds'] = full_df_w_event['s2_seconds'].map(float)\n",
    "    full_df_w_event['s3_seconds'] = full_df_w_event['s3_seconds'].map(float)\n",
    "    full_df_w_event['elapsed_seconds'] = full_df_w_event['elapsed_seconds'].map(float)\n",
    "    full_df_w_event['pit_time_seconds'] = full_df_w_event['pit_time_seconds'].map(float)\n",
    "full_df_w_event.info()"
   ]
  },
  {
   "cell_type": "code",
   "execution_count": null,
   "metadata": {},
   "outputs": [],
   "source": [
    "full_df_w_event.to_csv('2022_data_final.csv')"
   ]
  },
  {
   "cell_type": "code",
   "execution_count": null,
   "metadata": {},
   "outputs": [],
   "source": [
    "full_df_w_event.columns"
   ]
  }
 ],
 "metadata": {
  "kernelspec": {
   "display_name": "Python 3.9.6 64-bit",
   "language": "python",
   "name": "python3"
  },
  "language_info": {
   "codemirror_mode": {
    "name": "ipython",
    "version": 3
   },
   "file_extension": ".py",
   "mimetype": "text/x-python",
   "name": "python",
   "nbconvert_exporter": "python",
   "pygments_lexer": "ipython3",
   "version": "3.9.6"
  },
  "orig_nbformat": 4,
  "vscode": {
   "interpreter": {
    "hash": "f4310927781e9bff6b1fce3f870c25594b856e51a4cdb5dd6d31b23b5731fc4b"
   }
  }
 },
 "nbformat": 4,
 "nbformat_minor": 2
}
