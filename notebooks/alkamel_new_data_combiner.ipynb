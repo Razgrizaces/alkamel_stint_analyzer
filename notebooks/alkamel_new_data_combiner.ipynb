{
 "cells": [
  {
   "cell_type": "code",
   "execution_count": 1,
   "metadata": {},
   "outputs": [
    {
     "ename": "ModuleNotFoundError",
     "evalue": "No module named 'pathlib2'",
     "output_type": "error",
     "traceback": [
      "\u001b[1;31m---------------------------------------------------------------------------\u001b[0m",
      "\u001b[1;31mModuleNotFoundError\u001b[0m                       Traceback (most recent call last)",
      "Cell \u001b[1;32mIn[1], line 4\u001b[0m\n\u001b[0;32m      2\u001b[0m \u001b[38;5;28;01mimport\u001b[39;00m \u001b[38;5;21;01mpandas\u001b[39;00m \u001b[38;5;28;01mas\u001b[39;00m \u001b[38;5;21;01mpd\u001b[39;00m\n\u001b[0;32m      3\u001b[0m \u001b[38;5;28;01mimport\u001b[39;00m \u001b[38;5;21;01mnumpy\u001b[39;00m \u001b[38;5;28;01mas\u001b[39;00m \u001b[38;5;21;01mnp\u001b[39;00m\n\u001b[1;32m----> 4\u001b[0m \u001b[38;5;28;01mimport\u001b[39;00m \u001b[38;5;21;01mpathlib2\u001b[39;00m \u001b[38;5;28;01mas\u001b[39;00m \u001b[38;5;21;01mpl2\u001b[39;00m\n\u001b[0;32m      6\u001b[0m \u001b[38;5;28;01mdef\u001b[39;00m \u001b[38;5;21mcombine_files_together\u001b[39m():\n\u001b[0;32m      7\u001b[0m     base_path \u001b[38;5;241m=\u001b[39m \u001b[38;5;124m\"\u001b[39m\u001b[38;5;124mdata/\u001b[39m\u001b[38;5;124m\"\u001b[39m\n",
      "\u001b[1;31mModuleNotFoundError\u001b[0m: No module named 'pathlib2'"
     ]
    }
   ],
   "source": [
    "#this combines the files together in the directories\n",
    "import pandas as pd\n",
    "import numpy as np\n",
    "import pathlib2 as pl2\n",
    "\n",
    "def combine_files_together():\n",
    "    base_path = \"data/\"\n",
    "    elms_path = \"ELMS\"\n",
    "    lmc_cup_path = \"LeMansCup\"\n",
    "    fiawec_path = \"FIAWEC\"\n",
    "    imsa_path = \"IMSA\"\n",
    "\n",
    "    #file_paths = [fiawec_path, elms_path, lmc_cup_path, imsa_path]\n",
    "    file_paths = [fiawec_path, imsa_path]\n",
    "    full_df = pd.DataFrame()\n",
    "    for f in file_paths:\n",
    "        curr_dir = base_path + f\n",
    "        subset_df = pd.DataFrame()\n",
    "        current_circuit = \"\"\n",
    "        ps = pl2.Path(curr_dir)\n",
    "        \n",
    "        rows = (pd.read_csv(p, index_col=0, dtype=str) for p in ps.glob('*.csv'))\n",
    "        subset_df = pd.concat(rows)\n",
    "        subset_df = subset_df.dropna(axis=1, how = \"all\")\n",
    "        subset_df = subset_df.reset_index(drop=True)\n",
    "        subset_df.columns = subset_df.columns.str.strip()\n",
    "        subset_df.columns = subset_df.columns.str.lower()\n",
    "        full_df = full_df.append(subset_df)\n",
    "    return full_df.reset_index(drop=True)\n",
    "\n",
    "full_df = combine_files_together()\n",
    "full_df"
   ]
  },
  {
   "cell_type": "code",
   "execution_count": 7,
   "metadata": {},
   "outputs": [],
   "source": [
    "full_df['key'] = full_df['season'].map(str) + \"_\" + full_df['championship'] + \"_\" + full_df['round'].map(str) \\\n",
    "        + \"_\" + full_df['session_type'] + \"_\" + \\\n",
    "                full_df['number'].map(str) +  \"_\" + \\\n",
    "                full_df['lap_number'].map(str)"
   ]
  },
  {
   "cell_type": "code",
   "execution_count": null,
   "metadata": {},
   "outputs": [],
   "source": []
  }
 ],
 "metadata": {
  "kernelspec": {
   "display_name": "Python 3",
   "language": "python",
   "name": "python3"
  },
  "language_info": {
   "codemirror_mode": {
    "name": "ipython",
    "version": 3
   },
   "file_extension": ".py",
   "mimetype": "text/x-python",
   "name": "python",
   "nbconvert_exporter": "python",
   "pygments_lexer": "ipython3",
   "version": "3.9.13"
  },
  "orig_nbformat": 4
 },
 "nbformat": 4,
 "nbformat_minor": 2
}
